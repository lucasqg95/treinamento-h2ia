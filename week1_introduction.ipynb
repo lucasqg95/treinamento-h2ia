{
  "nbformat": 4,
  "nbformat_minor": 0,
  "metadata": {
    "colab": {
      "name": "week1-introduction.ipynb",
      "provenance": [],
      "collapsed_sections": [
        "hSspjNVfkEa5",
        "KNjzBa5Pt0cI"
      ],
      "authorship_tag": "ABX9TyPReAwEfHDwDL+Ga5kLuXWf",
      "include_colab_link": true
    },
    "kernelspec": {
      "name": "python3",
      "display_name": "Python 3"
    },
    "language_info": {
      "name": "python"
    }
  },
  "cells": [
    {
      "cell_type": "markdown",
      "metadata": {
        "id": "view-in-github",
        "colab_type": "text"
      },
      "source": [
        "<a href=\"https://colab.research.google.com/github/lucasqg95/treinamento-h2ia/blob/main/week1_introduction.ipynb\" target=\"_parent\"><img src=\"https://colab.research.google.com/assets/colab-badge.svg\" alt=\"Open In Colab\"/></a>"
      ]
    },
    {
      "cell_type": "markdown",
      "source": [
        "## **Numpy**\n",
        "\n",
        ">Numpy(Numerical Python) é uma biblioteca usada em Python onde oferece os ndarrays(N-Dimensional Arrays) e outros objetos derivados, onde tem como base a manipulção de arrays. Numpy esta presente em campos da ciencia e engenharia para computação cientifica ou numerica.\n",
        "\n",
        "# Primeiros passos:\n"
      ],
      "metadata": {
        "id": "hSspjNVfkEa5"
      }
    },
    {
      "cell_type": "code",
      "execution_count": 78,
      "metadata": {
        "colab": {
          "base_uri": "https://localhost:8080/"
        },
        "id": "LQWc8gSFjMvA",
        "outputId": "84632296-3829-4a95-800b-828412a44e37"
      },
      "outputs": [
        {
          "output_type": "stream",
          "name": "stdout",
          "text": [
            "Array: [10 12 14]\n",
            "Elemento individual do array: 12\n",
            "\n",
            "2d-Array:\n",
            "[[10 12 14]\n",
            " [11 13 15]\n",
            " [ 0  0  0]]\n",
            "Elemento individual: 13\n"
          ]
        }
      ],
      "source": [
        "import numpy as np\n",
        "\n",
        "#criando um vetor com numpy\n",
        "array = np.array([10,12,14], np.int16)\n",
        "\n",
        "#criando um 2d-array com numpy\n",
        "ndArray = np.array([[10,12,14],[11,13,15],[0,0,0]])\n",
        "\n",
        "#print do array\n",
        "print(f\"Array: {array}\")\n",
        "print(f\"Elemento individual do array: {array[1]}\")\n",
        "\n",
        "\n",
        "#print do ndArray\n",
        "print(f\"\\n2d-Array:\\n{ndArray}\")\n",
        "print(f\"Elemento individual: {ndArray[1][1]}\")"
      ]
    },
    {
      "cell_type": "markdown",
      "source": [
        "# Facilidade de manipulação e de obter informações sobre o ndArrays\n",
        "\n"
      ],
      "metadata": {
        "id": "KNjzBa5Pt0cI"
      }
    },
    {
      "cell_type": "code",
      "source": [
        "#array com os primeiros 2 elementos\n",
        "array_slice = array[0:2]\n",
        "print(f\"subarray: {array_slice}\")\n",
        "print(f\"shape: {array_slice.shape}\")\n",
        "print(f\"numero de dimensões: {array_slice.ndim}\")\n",
        "print(f\"tipo do dado: {array_slice.dtype}\")\n",
        "\n",
        "\n",
        "#ndarray com apenas os elementos da ultima coluna\n",
        "newNdArray = ndArray[:,2:3]\n",
        "print(f\"\\nndarray elementos 3 coluna:\\n {newNdArray}\")\n",
        "print(f\"shape: {newNdArray.shape}\")\n",
        "print(f\"numero de dimensões: {newNdArray.ndim}\")\n",
        "print(f\"tipo do dado: {newNdArray.dtype}\")\n",
        "\n",
        "\n",
        "#ndarray com apenas os elementos da ultima linha\n",
        "newNdArray = ndArray[2:3, :]\n",
        "print(f\"\\nndarray elementos 3 linha: {newNdArray}\")\n",
        "print(f\"shape: {newNdArray.shape}\")\n",
        "print(f\"numero de dimensões: {newNdArray.ndim}\")\n",
        "print(f\"tipo do dado: {newNdArray.dtype}\")\n",
        "\n"
      ],
      "metadata": {
        "colab": {
          "base_uri": "https://localhost:8080/"
        },
        "id": "Cn5ShhAUwSRm",
        "outputId": "4949af3f-a9d1-485e-c5b6-605887217508"
      },
      "execution_count": 53,
      "outputs": [
        {
          "output_type": "stream",
          "name": "stdout",
          "text": [
            "subarray: [10 12]\n",
            "shape: (2,)\n",
            "numero de dimensões: 1\n",
            "tipo do dado: int16\n",
            "\n",
            "ndarray elementos 3 coluna:\n",
            " [[14]\n",
            " [15]\n",
            " [ 0]]\n",
            "shape: (3, 1)\n",
            "numero de dimensões: 2\n",
            "tipo do dado: int64\n",
            "\n",
            "ndarray elementos 3 linha: [[0 0 0]]\n",
            "shape: (1, 3)\n",
            "numero de dimensões: 2\n",
            "tipo do dado: int64\n"
          ]
        }
      ]
    },
    {
      "cell_type": "markdown",
      "source": [
        "#Operações com ndarrays e broadcasting\n",
        "\n",
        "> Broadcasting é o termo usado em Numpy quando ndarrays com dimensões diferentes realizam um operação entre eles.\n"
      ],
      "metadata": {
        "id": "c2rpVAn66YD0"
      }
    },
    {
      "cell_type": "code",
      "source": [
        "#soma de inteiro em cada elemento do array\n",
        "soma_ndArray = array+6\n",
        "\n",
        "print(f\"Soma: {soma_ndArray}\")\n",
        "\n",
        "\n",
        "#operações de inteiro em cada elemento do array\n",
        "op_ndArray = ((array*2) / 2 )\n",
        "\n",
        "print(f\"Operações: {op_ndArray}\")\n",
        "\n",
        "#Broadcasting\n",
        "\n",
        "arr_example = array + ndArray\n",
        "print(f\"Soma de array com 2d-array:\\n {arr_example}\")\n",
        "\n",
        "arr_example = array * ndArray\n",
        "print(f\"Multiplicação de array com 2d-array:\\n {arr_example}\")\n",
        "\n"
      ],
      "metadata": {
        "colab": {
          "base_uri": "https://localhost:8080/"
        },
        "id": "sO59Bv32A0wu",
        "outputId": "a26fa127-e9a2-4c9a-8555-5a64a74868cb"
      },
      "execution_count": 76,
      "outputs": [
        {
          "output_type": "stream",
          "name": "stdout",
          "text": [
            "Soma: [16 18 20]\n",
            "Operações: [10. 12. 14.]\n",
            "Soma de array com 2d-array:\n",
            " [[20 24 28]\n",
            " [21 25 29]\n",
            " [10 12 14]]\n",
            "Multiplicação de array com 2d-array:\n",
            " [[100 144 196]\n",
            " [110 156 210]\n",
            " [  0   0   0]]\n"
          ]
        }
      ]
    },
    {
      "cell_type": "markdown",
      "source": [
        "## **Matplotlib**\n",
        "\n",
        "\n",
        "> É uma biblioteca que gera graficos apartir de dados.\n",
        "\n"
      ],
      "metadata": {
        "id": "z5cdviJseBqL"
      }
    },
    {
      "cell_type": "code",
      "source": [
        "import matplotlib.pyplot as plt\n",
        "import numpy as np\n",
        "\n",
        "#grafico linear\n",
        "x = np.arange(1,10)\n",
        "y = np.arange(1,10)\n",
        "\n",
        "plt.title(\"f(x) = x\")\n",
        "plt.xlabel(\"axis x\")\n",
        "plt.ylabel(\"axis y\")\n",
        "plt.plot(x, y)\n",
        "plt.show()"
      ],
      "metadata": {
        "colab": {
          "base_uri": "https://localhost:8080/",
          "height": 295
        },
        "id": "9xgUJv3xhrtR",
        "outputId": "05c0508b-3123-418f-b51e-ba120bbba8ae"
      },
      "execution_count": 104,
      "outputs": [
        {
          "output_type": "display_data",
          "data": {
            "text/plain": [
              "<Figure size 432x288 with 1 Axes>"
            ],
            "image/png": "[encoded data removed]"
          },
          "metadata": {
            "needs_background": "light"
          }
        }
      ]
    },
    {
      "cell_type": "code",
      "source": [
        "#grafico de uma tangente\n",
        "x = np.linspace(-1.0, 1.0, 1000)\n",
        "y = (np.sin(2 * np.pi * x)) / (np.cos(2 * np.pi * x))\n",
        "\n",
        "tol = 10\n",
        "y[y > tol] = np.nan\n",
        "y[y < -tol] = np.nan\n",
        "\n",
        "plt.title(\"tangent\")\n",
        "plt.xlabel(\"axis x\")\n",
        "plt.ylabel(\"axis y\")\n",
        "plt.plot(x, y, 'g-', lw=1)\n",
        "plt.show()"
      ],
      "metadata": {
        "colab": {
          "base_uri": "https://localhost:8080/",
          "height": 281
        },
        "id": "MDSJc_kUoxfv",
        "outputId": "6e70d8a3-8644-43be-c54b-4e4ec5d1d9aa"
      },
      "execution_count": 101,
      "outputs": [
        {
          "output_type": "display_data",
          "data": {
            "text/plain": [
              "<Figure size 432x288 with 1 Axes>"
            ],
            "image/png": "[encoded data removed]"
          },
          "metadata": {
            "needs_background": "light"
          }
        }
      ]
    },
    {
      "cell_type": "markdown",
      "source": [
        "#Alguns tipos de graficos disponiveis no matplot"
      ],
      "metadata": {
        "id": "o88Ms181tMee"
      }
    },
    {
      "cell_type": "code",
      "source": [
        "#scatter\n",
        "x = np.array([0, 4, 7, 9, 10 , 11])\n",
        "y = np.exp2(x)\n",
        "\n",
        "\n",
        "plt.xlabel(\"axis x\")\n",
        "plt.ylabel(\"axis y\")\n",
        "plt.scatter(x, y, color=\"k\")\n",
        "plt.show()"
      ],
      "metadata": {
        "colab": {
          "base_uri": "https://localhost:8080/",
          "height": 279
        },
        "id": "8fJcpOg-qwNw",
        "outputId": "59758dbd-006b-4b2a-cb05-b3a5e7b054bf"
      },
      "execution_count": 121,
      "outputs": [
        {
          "output_type": "display_data",
          "data": {
            "text/plain": [
              "<Figure size 432x288 with 1 Axes>"
            ],
            "image/png": "[encoded data removed]"
          },
          "metadata": {
            "needs_background": "light"
          }
        }
      ]
    },
    {
      "cell_type": "code",
      "source": [
        "#bar\n",
        "x = np.array([2009, 2010, 2011, 2012, 2013, 2014, 2015, 2016, 2017, 2018, 2019, 2020])\n",
        "y = np.array([12, 21, 36, 102, 101, 93 , 89, 89, 121, 208, 645, 1108])\n",
        "\n",
        "\n",
        "plt.title(\"People who started investing\")\n",
        "plt.xlabel(\"years\")\n",
        "plt.ylabel(\"peoples\")\n",
        "plt.bar(x, y, label=\"Peoples\")\n",
        "plt.legend()\n",
        "plt.show()"
      ],
      "metadata": {
        "colab": {
          "base_uri": "https://localhost:8080/",
          "height": 295
        },
        "id": "b5ZMBsiCtUsJ",
        "outputId": "ec435abe-18da-4e91-be80-67c114c5340e"
      },
      "execution_count": 135,
      "outputs": [
        {
          "output_type": "display_data",
          "data": {
            "text/plain": [
              "<Figure size 432x288 with 1 Axes>"
            ],
            "image/png": "[encoded data removed]"
          },
          "metadata": {
            "needs_background": "light"
          }
        }
      ]
    },
    {
      "cell_type": "code",
      "source": [
        "#pie\n",
        "sizes = [20, 20, 50.01, 9.99]\n",
        "explode = (0, 0, 0.1, 0) \n",
        "\n",
        "fig1, ax1 = plt.subplots()\n",
        "ax1.pie(sizes, explode=explode, autopct='%1.2f%%', shadow=True)\n",
        "\n",
        "plt.show()"
      ],
      "metadata": {
        "colab": {
          "base_uri": "https://localhost:8080/",
          "height": 248
        },
        "id": "jxvrexfFxMvx",
        "outputId": "57ac6bee-0e29-40ab-e785-075847013d43"
      },
      "execution_count": 149,
      "outputs": [
        {
          "output_type": "display_data",
          "data": {
            "text/plain": [
              "<Figure size 432x288 with 1 Axes>"
            ],
            "image/png": "[encoded data removed]"
          },
          "metadata": {}
        }
      ]
    }
  ]
}